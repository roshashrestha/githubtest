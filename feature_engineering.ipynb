{
  "nbformat": 4,
  "nbformat_minor": 0,
  "metadata": {
    "colab": {
      "provenance": [],
      "mount_file_id": "1vCYx5gm2hHZkKj8hnUj9fwhY58Nb9YJK",
      "authorship_tag": "ABX9TyNZBBMxw8Hox6426mYOggVn",
      "include_colab_link": true
    },
    "kernelspec": {
      "name": "python3",
      "display_name": "Python 3"
    },
    "language_info": {
      "name": "python"
    }
  },
  "cells": [
    {
      "cell_type": "markdown",
      "metadata": {
        "id": "view-in-github",
        "colab_type": "text"
      },
      "source": [
        "<a href=\"https://colab.research.google.com/github/roshashrestha/githubtest/blob/main/feature_engineering.ipynb\" target=\"_parent\"><img src=\"https://colab.research.google.com/assets/colab-badge.svg\" alt=\"Open In Colab\"/></a>"
      ]
    },
    {
      "cell_type": "markdown",
      "source": [
        "load dataset\n"
      ],
      "metadata": {
        "id": "2WDzVIsdIboh"
      }
    },
    {
      "cell_type": "code",
      "execution_count": 25,
      "metadata": {
        "colab": {
          "base_uri": "https://localhost:8080/",
          "height": 206
        },
        "id": "s7aogbt1G5s8",
        "outputId": "b10e2691-4aca-4306-c293-a331c7f0e0ec"
      },
      "outputs": [
        {
          "output_type": "execute_result",
          "data": {
            "text/plain": [
              "   PassengerId  Survived  Pclass  \\\n",
              "0            1         0       3   \n",
              "1            2         1       1   \n",
              "2            3         1       3   \n",
              "3            4         1       1   \n",
              "4            5         0       3   \n",
              "\n",
              "                                                Name     Sex   Age  SibSp  \\\n",
              "0                            Braund, Mr. Owen Harris    male  22.0      1   \n",
              "1  Cumings, Mrs. John Bradley (Florence Briggs Th...  female  38.0      1   \n",
              "2                             Heikkinen, Miss. Laina  female  26.0      0   \n",
              "3       Futrelle, Mrs. Jacques Heath (Lily May Peel)  female  35.0      1   \n",
              "4                           Allen, Mr. William Henry    male  35.0      0   \n",
              "\n",
              "   Parch            Ticket     Fare Cabin Embarked  \n",
              "0      0         A/5 21171   7.2500   NaN        S  \n",
              "1      0          PC 17599  71.2833   C85        C  \n",
              "2      0  STON/O2. 3101282   7.9250   NaN        S  \n",
              "3      0            113803  53.1000  C123        S  \n",
              "4      0            373450   8.0500   NaN        S  "
            ],
            "text/html": [
              "\n",
              "  <div id=\"df-1f303f7f-68e5-4466-8a2e-46248ae47902\" class=\"colab-df-container\">\n",
              "    <div>\n",
              "<style scoped>\n",
              "    .dataframe tbody tr th:only-of-type {\n",
              "        vertical-align: middle;\n",
              "    }\n",
              "\n",
              "    .dataframe tbody tr th {\n",
              "        vertical-align: top;\n",
              "    }\n",
              "\n",
              "    .dataframe thead th {\n",
              "        text-align: right;\n",
              "    }\n",
              "</style>\n",
              "<table border=\"1\" class=\"dataframe\">\n",
              "  <thead>\n",
              "    <tr style=\"text-align: right;\">\n",
              "      <th></th>\n",
              "      <th>PassengerId</th>\n",
              "      <th>Survived</th>\n",
              "      <th>Pclass</th>\n",
              "      <th>Name</th>\n",
              "      <th>Sex</th>\n",
              "      <th>Age</th>\n",
              "      <th>SibSp</th>\n",
              "      <th>Parch</th>\n",
              "      <th>Ticket</th>\n",
              "      <th>Fare</th>\n",
              "      <th>Cabin</th>\n",
              "      <th>Embarked</th>\n",
              "    </tr>\n",
              "  </thead>\n",
              "  <tbody>\n",
              "    <tr>\n",
              "      <th>0</th>\n",
              "      <td>1</td>\n",
              "      <td>0</td>\n",
              "      <td>3</td>\n",
              "      <td>Braund, Mr. Owen Harris</td>\n",
              "      <td>male</td>\n",
              "      <td>22.0</td>\n",
              "      <td>1</td>\n",
              "      <td>0</td>\n",
              "      <td>A/5 21171</td>\n",
              "      <td>7.2500</td>\n",
              "      <td>NaN</td>\n",
              "      <td>S</td>\n",
              "    </tr>\n",
              "    <tr>\n",
              "      <th>1</th>\n",
              "      <td>2</td>\n",
              "      <td>1</td>\n",
              "      <td>1</td>\n",
              "      <td>Cumings, Mrs. John Bradley (Florence Briggs Th...</td>\n",
              "      <td>female</td>\n",
              "      <td>38.0</td>\n",
              "      <td>1</td>\n",
              "      <td>0</td>\n",
              "      <td>PC 17599</td>\n",
              "      <td>71.2833</td>\n",
              "      <td>C85</td>\n",
              "      <td>C</td>\n",
              "    </tr>\n",
              "    <tr>\n",
              "      <th>2</th>\n",
              "      <td>3</td>\n",
              "      <td>1</td>\n",
              "      <td>3</td>\n",
              "      <td>Heikkinen, Miss. Laina</td>\n",
              "      <td>female</td>\n",
              "      <td>26.0</td>\n",
              "      <td>0</td>\n",
              "      <td>0</td>\n",
              "      <td>STON/O2. 3101282</td>\n",
              "      <td>7.9250</td>\n",
              "      <td>NaN</td>\n",
              "      <td>S</td>\n",
              "    </tr>\n",
              "    <tr>\n",
              "      <th>3</th>\n",
              "      <td>4</td>\n",
              "      <td>1</td>\n",
              "      <td>1</td>\n",
              "      <td>Futrelle, Mrs. Jacques Heath (Lily May Peel)</td>\n",
              "      <td>female</td>\n",
              "      <td>35.0</td>\n",
              "      <td>1</td>\n",
              "      <td>0</td>\n",
              "      <td>113803</td>\n",
              "      <td>53.1000</td>\n",
              "      <td>C123</td>\n",
              "      <td>S</td>\n",
              "    </tr>\n",
              "    <tr>\n",
              "      <th>4</th>\n",
              "      <td>5</td>\n",
              "      <td>0</td>\n",
              "      <td>3</td>\n",
              "      <td>Allen, Mr. William Henry</td>\n",
              "      <td>male</td>\n",
              "      <td>35.0</td>\n",
              "      <td>0</td>\n",
              "      <td>0</td>\n",
              "      <td>373450</td>\n",
              "      <td>8.0500</td>\n",
              "      <td>NaN</td>\n",
              "      <td>S</td>\n",
              "    </tr>\n",
              "  </tbody>\n",
              "</table>\n",
              "</div>\n",
              "    <div class=\"colab-df-buttons\">\n",
              "\n",
              "  <div class=\"colab-df-container\">\n",
              "    <button class=\"colab-df-convert\" onclick=\"convertToInteractive('df-1f303f7f-68e5-4466-8a2e-46248ae47902')\"\n",
              "            title=\"Convert this dataframe to an interactive table.\"\n",
              "            style=\"display:none;\">\n",
              "\n",
              "  <svg xmlns=\"http://www.w3.org/2000/svg\" height=\"24px\" viewBox=\"0 -960 960 960\">\n",
              "    <path d=\"M120-120v-720h720v720H120Zm60-500h600v-160H180v160Zm220 220h160v-160H400v160Zm0 220h160v-160H400v160ZM180-400h160v-160H180v160Zm440 0h160v-160H620v160ZM180-180h160v-160H180v160Zm440 0h160v-160H620v160Z\"/>\n",
              "  </svg>\n",
              "    </button>\n",
              "\n",
              "  <style>\n",
              "    .colab-df-container {\n",
              "      display:flex;\n",
              "      gap: 12px;\n",
              "    }\n",
              "\n",
              "    .colab-df-convert {\n",
              "      background-color: #E8F0FE;\n",
              "      border: none;\n",
              "      border-radius: 50%;\n",
              "      cursor: pointer;\n",
              "      display: none;\n",
              "      fill: #1967D2;\n",
              "      height: 32px;\n",
              "      padding: 0 0 0 0;\n",
              "      width: 32px;\n",
              "    }\n",
              "\n",
              "    .colab-df-convert:hover {\n",
              "      background-color: #E2EBFA;\n",
              "      box-shadow: 0px 1px 2px rgba(60, 64, 67, 0.3), 0px 1px 3px 1px rgba(60, 64, 67, 0.15);\n",
              "      fill: #174EA6;\n",
              "    }\n",
              "\n",
              "    .colab-df-buttons div {\n",
              "      margin-bottom: 4px;\n",
              "    }\n",
              "\n",
              "    [theme=dark] .colab-df-convert {\n",
              "      background-color: #3B4455;\n",
              "      fill: #D2E3FC;\n",
              "    }\n",
              "\n",
              "    [theme=dark] .colab-df-convert:hover {\n",
              "      background-color: #434B5C;\n",
              "      box-shadow: 0px 1px 3px 1px rgba(0, 0, 0, 0.15);\n",
              "      filter: drop-shadow(0px 1px 2px rgba(0, 0, 0, 0.3));\n",
              "      fill: #FFFFFF;\n",
              "    }\n",
              "  </style>\n",
              "\n",
              "    <script>\n",
              "      const buttonEl =\n",
              "        document.querySelector('#df-1f303f7f-68e5-4466-8a2e-46248ae47902 button.colab-df-convert');\n",
              "      buttonEl.style.display =\n",
              "        google.colab.kernel.accessAllowed ? 'block' : 'none';\n",
              "\n",
              "      async function convertToInteractive(key) {\n",
              "        const element = document.querySelector('#df-1f303f7f-68e5-4466-8a2e-46248ae47902');\n",
              "        const dataTable =\n",
              "          await google.colab.kernel.invokeFunction('convertToInteractive',\n",
              "                                                    [key], {});\n",
              "        if (!dataTable) return;\n",
              "\n",
              "        const docLinkHtml = 'Like what you see? Visit the ' +\n",
              "          '<a target=\"_blank\" href=https://colab.research.google.com/notebooks/data_table.ipynb>data table notebook</a>'\n",
              "          + ' to learn more about interactive tables.';\n",
              "        element.innerHTML = '';\n",
              "        dataTable['output_type'] = 'display_data';\n",
              "        await google.colab.output.renderOutput(dataTable, element);\n",
              "        const docLink = document.createElement('div');\n",
              "        docLink.innerHTML = docLinkHtml;\n",
              "        element.appendChild(docLink);\n",
              "      }\n",
              "    </script>\n",
              "  </div>\n",
              "\n",
              "\n",
              "<div id=\"df-32e1be4e-8350-47db-954a-44d61f1d2ff5\">\n",
              "  <button class=\"colab-df-quickchart\" onclick=\"quickchart('df-32e1be4e-8350-47db-954a-44d61f1d2ff5')\"\n",
              "            title=\"Suggest charts\"\n",
              "            style=\"display:none;\">\n",
              "\n",
              "<svg xmlns=\"http://www.w3.org/2000/svg\" height=\"24px\"viewBox=\"0 0 24 24\"\n",
              "     width=\"24px\">\n",
              "    <g>\n",
              "        <path d=\"M19 3H5c-1.1 0-2 .9-2 2v14c0 1.1.9 2 2 2h14c1.1 0 2-.9 2-2V5c0-1.1-.9-2-2-2zM9 17H7v-7h2v7zm4 0h-2V7h2v10zm4 0h-2v-4h2v4z\"/>\n",
              "    </g>\n",
              "</svg>\n",
              "  </button>\n",
              "\n",
              "<style>\n",
              "  .colab-df-quickchart {\n",
              "      --bg-color: #E8F0FE;\n",
              "      --fill-color: #1967D2;\n",
              "      --hover-bg-color: #E2EBFA;\n",
              "      --hover-fill-color: #174EA6;\n",
              "      --disabled-fill-color: #AAA;\n",
              "      --disabled-bg-color: #DDD;\n",
              "  }\n",
              "\n",
              "  [theme=dark] .colab-df-quickchart {\n",
              "      --bg-color: #3B4455;\n",
              "      --fill-color: #D2E3FC;\n",
              "      --hover-bg-color: #434B5C;\n",
              "      --hover-fill-color: #FFFFFF;\n",
              "      --disabled-bg-color: #3B4455;\n",
              "      --disabled-fill-color: #666;\n",
              "  }\n",
              "\n",
              "  .colab-df-quickchart {\n",
              "    background-color: var(--bg-color);\n",
              "    border: none;\n",
              "    border-radius: 50%;\n",
              "    cursor: pointer;\n",
              "    display: none;\n",
              "    fill: var(--fill-color);\n",
              "    height: 32px;\n",
              "    padding: 0;\n",
              "    width: 32px;\n",
              "  }\n",
              "\n",
              "  .colab-df-quickchart:hover {\n",
              "    background-color: var(--hover-bg-color);\n",
              "    box-shadow: 0 1px 2px rgba(60, 64, 67, 0.3), 0 1px 3px 1px rgba(60, 64, 67, 0.15);\n",
              "    fill: var(--button-hover-fill-color);\n",
              "  }\n",
              "\n",
              "  .colab-df-quickchart-complete:disabled,\n",
              "  .colab-df-quickchart-complete:disabled:hover {\n",
              "    background-color: var(--disabled-bg-color);\n",
              "    fill: var(--disabled-fill-color);\n",
              "    box-shadow: none;\n",
              "  }\n",
              "\n",
              "  .colab-df-spinner {\n",
              "    border: 2px solid var(--fill-color);\n",
              "    border-color: transparent;\n",
              "    border-bottom-color: var(--fill-color);\n",
              "    animation:\n",
              "      spin 1s steps(1) infinite;\n",
              "  }\n",
              "\n",
              "  @keyframes spin {\n",
              "    0% {\n",
              "      border-color: transparent;\n",
              "      border-bottom-color: var(--fill-color);\n",
              "      border-left-color: var(--fill-color);\n",
              "    }\n",
              "    20% {\n",
              "      border-color: transparent;\n",
              "      border-left-color: var(--fill-color);\n",
              "      border-top-color: var(--fill-color);\n",
              "    }\n",
              "    30% {\n",
              "      border-color: transparent;\n",
              "      border-left-color: var(--fill-color);\n",
              "      border-top-color: var(--fill-color);\n",
              "      border-right-color: var(--fill-color);\n",
              "    }\n",
              "    40% {\n",
              "      border-color: transparent;\n",
              "      border-right-color: var(--fill-color);\n",
              "      border-top-color: var(--fill-color);\n",
              "    }\n",
              "    60% {\n",
              "      border-color: transparent;\n",
              "      border-right-color: var(--fill-color);\n",
              "    }\n",
              "    80% {\n",
              "      border-color: transparent;\n",
              "      border-right-color: var(--fill-color);\n",
              "      border-bottom-color: var(--fill-color);\n",
              "    }\n",
              "    90% {\n",
              "      border-color: transparent;\n",
              "      border-bottom-color: var(--fill-color);\n",
              "    }\n",
              "  }\n",
              "</style>\n",
              "\n",
              "  <script>\n",
              "    async function quickchart(key) {\n",
              "      const quickchartButtonEl =\n",
              "        document.querySelector('#' + key + ' button');\n",
              "      quickchartButtonEl.disabled = true;  // To prevent multiple clicks.\n",
              "      quickchartButtonEl.classList.add('colab-df-spinner');\n",
              "      try {\n",
              "        const charts = await google.colab.kernel.invokeFunction(\n",
              "            'suggestCharts', [key], {});\n",
              "      } catch (error) {\n",
              "        console.error('Error during call to suggestCharts:', error);\n",
              "      }\n",
              "      quickchartButtonEl.classList.remove('colab-df-spinner');\n",
              "      quickchartButtonEl.classList.add('colab-df-quickchart-complete');\n",
              "    }\n",
              "    (() => {\n",
              "      let quickchartButtonEl =\n",
              "        document.querySelector('#df-32e1be4e-8350-47db-954a-44d61f1d2ff5 button');\n",
              "      quickchartButtonEl.style.display =\n",
              "        google.colab.kernel.accessAllowed ? 'block' : 'none';\n",
              "    })();\n",
              "  </script>\n",
              "</div>\n",
              "\n",
              "    </div>\n",
              "  </div>\n"
            ],
            "application/vnd.google.colaboratory.intrinsic+json": {
              "type": "dataframe",
              "variable_name": "housing",
              "summary": "{\n  \"name\": \"housing\",\n  \"rows\": 891,\n  \"fields\": [\n    {\n      \"column\": \"PassengerId\",\n      \"properties\": {\n        \"dtype\": \"number\",\n        \"std\": 257,\n        \"min\": 1,\n        \"max\": 891,\n        \"num_unique_values\": 891,\n        \"samples\": [\n          710,\n          440,\n          841\n        ],\n        \"semantic_type\": \"\",\n        \"description\": \"\"\n      }\n    },\n    {\n      \"column\": \"Survived\",\n      \"properties\": {\n        \"dtype\": \"number\",\n        \"std\": 0,\n        \"min\": 0,\n        \"max\": 1,\n        \"num_unique_values\": 2,\n        \"samples\": [\n          1,\n          0\n        ],\n        \"semantic_type\": \"\",\n        \"description\": \"\"\n      }\n    },\n    {\n      \"column\": \"Pclass\",\n      \"properties\": {\n        \"dtype\": \"number\",\n        \"std\": 0,\n        \"min\": 1,\n        \"max\": 3,\n        \"num_unique_values\": 3,\n        \"samples\": [\n          3,\n          1\n        ],\n        \"semantic_type\": \"\",\n        \"description\": \"\"\n      }\n    },\n    {\n      \"column\": \"Name\",\n      \"properties\": {\n        \"dtype\": \"string\",\n        \"num_unique_values\": 891,\n        \"samples\": [\n          \"Moubarek, Master. Halim Gonios (\\\"William George\\\")\",\n          \"Kvillner, Mr. Johan Henrik Johannesson\"\n        ],\n        \"semantic_type\": \"\",\n        \"description\": \"\"\n      }\n    },\n    {\n      \"column\": \"Sex\",\n      \"properties\": {\n        \"dtype\": \"category\",\n        \"num_unique_values\": 2,\n        \"samples\": [\n          \"female\",\n          \"male\"\n        ],\n        \"semantic_type\": \"\",\n        \"description\": \"\"\n      }\n    },\n    {\n      \"column\": \"Age\",\n      \"properties\": {\n        \"dtype\": \"number\",\n        \"std\": 14.526497332334044,\n        \"min\": 0.42,\n        \"max\": 80.0,\n        \"num_unique_values\": 88,\n        \"samples\": [\n          0.75,\n          22.0\n        ],\n        \"semantic_type\": \"\",\n        \"description\": \"\"\n      }\n    },\n    {\n      \"column\": \"SibSp\",\n      \"properties\": {\n        \"dtype\": \"number\",\n        \"std\": 1,\n        \"min\": 0,\n        \"max\": 8,\n        \"num_unique_values\": 7,\n        \"samples\": [\n          1,\n          0\n        ],\n        \"semantic_type\": \"\",\n        \"description\": \"\"\n      }\n    },\n    {\n      \"column\": \"Parch\",\n      \"properties\": {\n        \"dtype\": \"number\",\n        \"std\": 0,\n        \"min\": 0,\n        \"max\": 6,\n        \"num_unique_values\": 7,\n        \"samples\": [\n          0,\n          1\n        ],\n        \"semantic_type\": \"\",\n        \"description\": \"\"\n      }\n    },\n    {\n      \"column\": \"Ticket\",\n      \"properties\": {\n        \"dtype\": \"string\",\n        \"num_unique_values\": 681,\n        \"samples\": [\n          \"11774\",\n          \"248740\"\n        ],\n        \"semantic_type\": \"\",\n        \"description\": \"\"\n      }\n    },\n    {\n      \"column\": \"Fare\",\n      \"properties\": {\n        \"dtype\": \"number\",\n        \"std\": 49.693428597180905,\n        \"min\": 0.0,\n        \"max\": 512.3292,\n        \"num_unique_values\": 248,\n        \"samples\": [\n          11.2417,\n          51.8625\n        ],\n        \"semantic_type\": \"\",\n        \"description\": \"\"\n      }\n    },\n    {\n      \"column\": \"Cabin\",\n      \"properties\": {\n        \"dtype\": \"category\",\n        \"num_unique_values\": 147,\n        \"samples\": [\n          \"D45\",\n          \"B49\"\n        ],\n        \"semantic_type\": \"\",\n        \"description\": \"\"\n      }\n    },\n    {\n      \"column\": \"Embarked\",\n      \"properties\": {\n        \"dtype\": \"category\",\n        \"num_unique_values\": 3,\n        \"samples\": [\n          \"S\",\n          \"C\"\n        ],\n        \"semantic_type\": \"\",\n        \"description\": \"\"\n      }\n    }\n  ]\n}"
            }
          },
          "metadata": {},
          "execution_count": 25
        }
      ],
      "source": [
        "import pandas as pd\n",
        "\n",
        "def load_housing_data(TITANIC_PATH):\n",
        " return pd.read_csv(TITANIC_PATH)\n",
        "\n",
        "housing = load_housing_data(\"/content/drive/MyDrive/Colab Notebooks/titanic.csv\")#drive>mydrive>colab\n",
        "housing.head()"
      ]
    },
    {
      "cell_type": "markdown",
      "source": [
        "handle missing value"
      ],
      "metadata": {
        "id": "qRMJXUFQIerR"
      }
    },
    {
      "cell_type": "code",
      "source": [
        "#checking missing value\n",
        "print(df.isnull().sum())  # Shows count of missing values per column"
      ],
      "metadata": {
        "colab": {
          "base_uri": "https://localhost:8080/"
        },
        "id": "VJhgGVgXHCPV",
        "outputId": "075519e0-5997-4869-e3df-be581fde7a50"
      },
      "execution_count": 26,
      "outputs": [
        {
          "output_type": "stream",
          "name": "stdout",
          "text": [
            "survived       0\n",
            "pclass         0\n",
            "sex            0\n",
            "age            0\n",
            "sibsp          0\n",
            "parch          0\n",
            "fare           0\n",
            "embarked       2\n",
            "class          0\n",
            "who            0\n",
            "adult_male     0\n",
            "deck           0\n",
            "embark_town    2\n",
            "alive          0\n",
            "alone          0\n",
            "dtype: int64\n"
          ]
        }
      ]
    },
    {
      "cell_type": "markdown",
      "source": [
        "removing missing values"
      ],
      "metadata": {
        "id": "6E4gtOKbIg0y"
      }
    },
    {
      "cell_type": "code",
      "source": [
        "# Drop rows with any missing values\n",
        "df_dropped_rows = df.dropna()\n",
        "print(\"\\nDataFrame after dropping rows with missing values:\")\n",
        "print(df_dropped_rows)"
      ],
      "metadata": {
        "colab": {
          "base_uri": "https://localhost:8080/"
        },
        "id": "o2oKUrYZIAHE",
        "outputId": "8b56dbf2-1efc-46fc-a796-8c3ba2c63eae"
      },
      "execution_count": 27,
      "outputs": [
        {
          "output_type": "stream",
          "name": "stdout",
          "text": [
            "\n",
            "DataFrame after dropping rows with missing values:\n",
            "     survived  pclass     sex        age  sibsp  parch     fare embarked  \\\n",
            "0           0       3    male  22.000000      1      0   7.2500        S   \n",
            "1           1       1  female  38.000000      1      0  71.2833        C   \n",
            "2           1       3  female  26.000000      0      0   7.9250        S   \n",
            "3           1       1  female  35.000000      1      0  53.1000        S   \n",
            "4           0       3    male  35.000000      0      0   8.0500        S   \n",
            "..        ...     ...     ...        ...    ...    ...      ...      ...   \n",
            "886         0       2    male  27.000000      0      0  13.0000        S   \n",
            "887         1       1  female  19.000000      0      0  30.0000        S   \n",
            "888         0       3  female  29.699118      1      2  23.4500        S   \n",
            "889         1       1    male  26.000000      0      0  30.0000        C   \n",
            "890         0       3    male  32.000000      0      0   7.7500        Q   \n",
            "\n",
            "      class    who  adult_male deck  embark_town alive  alone  \n",
            "0     Third    man        True    C  Southampton    no  False  \n",
            "1     First  woman       False    C    Cherbourg   yes  False  \n",
            "2     Third  woman       False    C  Southampton   yes   True  \n",
            "3     First  woman       False    C  Southampton   yes  False  \n",
            "4     Third    man        True    C  Southampton    no   True  \n",
            "..      ...    ...         ...  ...          ...   ...    ...  \n",
            "886  Second    man        True    C  Southampton    no   True  \n",
            "887   First  woman       False    B  Southampton   yes   True  \n",
            "888   Third  woman       False    C  Southampton    no  False  \n",
            "889   First    man        True    C    Cherbourg   yes   True  \n",
            "890   Third    man        True    C   Queenstown    no   True  \n",
            "\n",
            "[889 rows x 15 columns]\n"
          ]
        }
      ]
    },
    {
      "cell_type": "code",
      "source": [
        "# Impute missing values with the mean\n",
        "df_mean = df\n",
        "df_mean['age'].fillna(df_mean['age'].mean(), inplace=True)\n",
        "\n",
        "print(\"\\nDataFrame after imputing numerical columns with mean:\")\n",
        "print(df_mean)"
      ],
      "metadata": {
        "colab": {
          "base_uri": "https://localhost:8080/"
        },
        "id": "IRDNFwcuIrbQ",
        "outputId": "f8440bf2-8546-4fbc-f556-0462a47b2003"
      },
      "execution_count": 9,
      "outputs": [
        {
          "output_type": "stream",
          "name": "stdout",
          "text": [
            "\n",
            "DataFrame after imputing numerical columns with mean:\n",
            "     survived  pclass     sex        age  sibsp  parch     fare embarked  \\\n",
            "0           0       3    male  22.000000      1      0   7.2500        S   \n",
            "1           1       1  female  38.000000      1      0  71.2833        C   \n",
            "2           1       3  female  26.000000      0      0   7.9250        S   \n",
            "3           1       1  female  35.000000      1      0  53.1000        S   \n",
            "4           0       3    male  35.000000      0      0   8.0500        S   \n",
            "..        ...     ...     ...        ...    ...    ...      ...      ...   \n",
            "886         0       2    male  27.000000      0      0  13.0000        S   \n",
            "887         1       1  female  19.000000      0      0  30.0000        S   \n",
            "888         0       3  female  29.699118      1      2  23.4500        S   \n",
            "889         1       1    male  26.000000      0      0  30.0000        C   \n",
            "890         0       3    male  32.000000      0      0   7.7500        Q   \n",
            "\n",
            "      class    who  adult_male deck  embark_town alive  alone  \n",
            "0     Third    man        True  NaN  Southampton    no  False  \n",
            "1     First  woman       False    C    Cherbourg   yes  False  \n",
            "2     Third  woman       False  NaN  Southampton   yes   True  \n",
            "3     First  woman       False    C  Southampton   yes  False  \n",
            "4     Third    man        True  NaN  Southampton    no   True  \n",
            "..      ...    ...         ...  ...          ...   ...    ...  \n",
            "886  Second    man        True  NaN  Southampton    no   True  \n",
            "887   First  woman       False    B  Southampton   yes   True  \n",
            "888   Third  woman       False  NaN  Southampton    no  False  \n",
            "889   First    man        True    C    Cherbourg   yes   True  \n",
            "890   Third    man        True  NaN   Queenstown    no   True  \n",
            "\n",
            "[891 rows x 15 columns]\n"
          ]
        },
        {
          "output_type": "stream",
          "name": "stderr",
          "text": [
            "<ipython-input-9-fd87bea43d5a>:3: FutureWarning: A value is trying to be set on a copy of a DataFrame or Series through chained assignment using an inplace method.\n",
            "The behavior will change in pandas 3.0. This inplace method will never work because the intermediate object on which we are setting values always behaves as a copy.\n",
            "\n",
            "For example, when doing 'df[col].method(value, inplace=True)', try using 'df.method({col: value}, inplace=True)' or df[col] = df[col].method(value) instead, to perform the operation inplace on the original object.\n",
            "\n",
            "\n",
            "  df_mean['age'].fillna(df_mean['age'].mean(), inplace=True)\n"
          ]
        }
      ]
    },
    {
      "cell_type": "code",
      "source": [
        "# Impute missing values with the mode\n",
        "df_mode = df\n",
        "df_mode['sex'].fillna(df_mode['sex'].mode()[0], inplace=True)\n",
        "df_mode['deck'].fillna(df_mode['deck'].mode()[0], inplace=True)\n",
        "\n",
        "\n",
        "print(\"\\nDataFrame after imputing categorical columns with mode:\")\n",
        "print(df_mode)"
      ],
      "metadata": {
        "colab": {
          "base_uri": "https://localhost:8080/"
        },
        "id": "7XLZ73rYKIVt",
        "outputId": "f0b4f322-6560-4b58-bc97-6f10806ad3ad"
      },
      "execution_count": 11,
      "outputs": [
        {
          "output_type": "stream",
          "name": "stdout",
          "text": [
            "\n",
            "DataFrame after imputing categorical columns with mode:\n",
            "     survived  pclass     sex        age  sibsp  parch     fare embarked  \\\n",
            "0           0       3    male  22.000000      1      0   7.2500        S   \n",
            "1           1       1  female  38.000000      1      0  71.2833        C   \n",
            "2           1       3  female  26.000000      0      0   7.9250        S   \n",
            "3           1       1  female  35.000000      1      0  53.1000        S   \n",
            "4           0       3    male  35.000000      0      0   8.0500        S   \n",
            "..        ...     ...     ...        ...    ...    ...      ...      ...   \n",
            "886         0       2    male  27.000000      0      0  13.0000        S   \n",
            "887         1       1  female  19.000000      0      0  30.0000        S   \n",
            "888         0       3  female  29.699118      1      2  23.4500        S   \n",
            "889         1       1    male  26.000000      0      0  30.0000        C   \n",
            "890         0       3    male  32.000000      0      0   7.7500        Q   \n",
            "\n",
            "      class    who  adult_male deck  embark_town alive  alone  \n",
            "0     Third    man        True    C  Southampton    no  False  \n",
            "1     First  woman       False    C    Cherbourg   yes  False  \n",
            "2     Third  woman       False    C  Southampton   yes   True  \n",
            "3     First  woman       False    C  Southampton   yes  False  \n",
            "4     Third    man        True    C  Southampton    no   True  \n",
            "..      ...    ...         ...  ...          ...   ...    ...  \n",
            "886  Second    man        True    C  Southampton    no   True  \n",
            "887   First  woman       False    B  Southampton   yes   True  \n",
            "888   Third  woman       False    C  Southampton    no  False  \n",
            "889   First    man        True    C    Cherbourg   yes   True  \n",
            "890   Third    man        True    C   Queenstown    no   True  \n",
            "\n",
            "[891 rows x 15 columns]\n"
          ]
        },
        {
          "output_type": "stream",
          "name": "stderr",
          "text": [
            "<ipython-input-11-9a105e74f60a>:3: FutureWarning: A value is trying to be set on a copy of a DataFrame or Series through chained assignment using an inplace method.\n",
            "The behavior will change in pandas 3.0. This inplace method will never work because the intermediate object on which we are setting values always behaves as a copy.\n",
            "\n",
            "For example, when doing 'df[col].method(value, inplace=True)', try using 'df.method({col: value}, inplace=True)' or df[col] = df[col].method(value) instead, to perform the operation inplace on the original object.\n",
            "\n",
            "\n",
            "  df_mode['sex'].fillna(df_mode['sex'].mode()[0], inplace=True)\n",
            "<ipython-input-11-9a105e74f60a>:4: FutureWarning: A value is trying to be set on a copy of a DataFrame or Series through chained assignment using an inplace method.\n",
            "The behavior will change in pandas 3.0. This inplace method will never work because the intermediate object on which we are setting values always behaves as a copy.\n",
            "\n",
            "For example, when doing 'df[col].method(value, inplace=True)', try using 'df.method({col: value}, inplace=True)' or df[col] = df[col].method(value) instead, to perform the operation inplace on the original object.\n",
            "\n",
            "\n",
            "  df_mode['deck'].fillna(df_mode['deck'].mode()[0], inplace=True)\n"
          ]
        }
      ]
    },
    {
      "cell_type": "markdown",
      "source": [
        "handle categorical value"
      ],
      "metadata": {
        "id": "WVFQ48RIS-kP"
      }
    },
    {
      "cell_type": "code",
      "source": [
        "#label encoding\n",
        "from sklearn.preprocessing import LabelEncoder\n",
        "\n",
        "# Apply Label Encoding to 'Size'\n",
        "label_encoder = LabelEncoder()\n",
        "df['sex'] = label_encoder.fit_transform(df['sex'])\n",
        "\n",
        "print(\"\\nDataFrame after Label Encoding for 'sex':\\n\", df)"
      ],
      "metadata": {
        "colab": {
          "base_uri": "https://localhost:8080/"
        },
        "id": "jwf0BmMESpTu",
        "outputId": "fad83b40-48b5-42ed-b2b7-3e3592b380dd"
      },
      "execution_count": 12,
      "outputs": [
        {
          "output_type": "stream",
          "name": "stdout",
          "text": [
            "\n",
            "DataFrame after Label Encoding for 'sex':\n",
            "      survived  pclass  sex        age  sibsp  parch     fare embarked   class  \\\n",
            "0           0       3    1  22.000000      1      0   7.2500        S   Third   \n",
            "1           1       1    0  38.000000      1      0  71.2833        C   First   \n",
            "2           1       3    0  26.000000      0      0   7.9250        S   Third   \n",
            "3           1       1    0  35.000000      1      0  53.1000        S   First   \n",
            "4           0       3    1  35.000000      0      0   8.0500        S   Third   \n",
            "..        ...     ...  ...        ...    ...    ...      ...      ...     ...   \n",
            "886         0       2    1  27.000000      0      0  13.0000        S  Second   \n",
            "887         1       1    0  19.000000      0      0  30.0000        S   First   \n",
            "888         0       3    0  29.699118      1      2  23.4500        S   Third   \n",
            "889         1       1    1  26.000000      0      0  30.0000        C   First   \n",
            "890         0       3    1  32.000000      0      0   7.7500        Q   Third   \n",
            "\n",
            "       who  adult_male deck  embark_town alive  alone  \n",
            "0      man        True    C  Southampton    no  False  \n",
            "1    woman       False    C    Cherbourg   yes  False  \n",
            "2    woman       False    C  Southampton   yes   True  \n",
            "3    woman       False    C  Southampton   yes  False  \n",
            "4      man        True    C  Southampton    no   True  \n",
            "..     ...         ...  ...          ...   ...    ...  \n",
            "886    man        True    C  Southampton    no   True  \n",
            "887  woman       False    B  Southampton   yes   True  \n",
            "888  woman       False    C  Southampton    no  False  \n",
            "889    man        True    C    Cherbourg   yes   True  \n",
            "890    man        True    C   Queenstown    no   True  \n",
            "\n",
            "[891 rows x 15 columns]\n"
          ]
        }
      ]
    },
    {
      "cell_type": "code",
      "source": [
        "import pandas as pd\n",
        "from sklearn.compose import ColumnTransformer\n",
        "from sklearn.preprocessing import OneHotEncoder\n",
        "\n",
        "\n",
        "# Define the preprocessor\n",
        "preprocessor = ColumnTransformer(\n",
        "    transformers=[('onehot', OneHotEncoder(), ['class'])],  # Use column names\n",
        "    remainder='passthrough'  # Keep numerical columns as they are\n",
        ")\n",
        "\n",
        "# Apply the transformation\n",
        "transformed_data = preprocessor.fit_transform(df)\n",
        "\n",
        "# Convert back to DataFrame with feature names\n",
        "feature_names = preprocessor.get_feature_names_out()\n",
        "df_encoded = pd.DataFrame(transformed_data, columns=feature_names)\n",
        "\n",
        "print(df_encoded)"
      ],
      "metadata": {
        "colab": {
          "base_uri": "https://localhost:8080/"
        },
        "id": "7j16E06ITgP5",
        "outputId": "62dc670a-18db-4521-bcbc-65a329a40aa5"
      },
      "execution_count": 13,
      "outputs": [
        {
          "output_type": "stream",
          "name": "stdout",
          "text": [
            "    onehot__class_First onehot__class_Second onehot__class_Third  \\\n",
            "0                   0.0                  0.0                 1.0   \n",
            "1                   1.0                  0.0                 0.0   \n",
            "2                   0.0                  0.0                 1.0   \n",
            "3                   1.0                  0.0                 0.0   \n",
            "4                   0.0                  0.0                 1.0   \n",
            "..                  ...                  ...                 ...   \n",
            "886                 0.0                  1.0                 0.0   \n",
            "887                 1.0                  0.0                 0.0   \n",
            "888                 0.0                  0.0                 1.0   \n",
            "889                 1.0                  0.0                 0.0   \n",
            "890                 0.0                  0.0                 1.0   \n",
            "\n",
            "    remainder__survived remainder__pclass remainder__sex remainder__age  \\\n",
            "0                     0                 3              1           22.0   \n",
            "1                     1                 1              0           38.0   \n",
            "2                     1                 3              0           26.0   \n",
            "3                     1                 1              0           35.0   \n",
            "4                     0                 3              1           35.0   \n",
            "..                  ...               ...            ...            ...   \n",
            "886                   0                 2              1           27.0   \n",
            "887                   1                 1              0           19.0   \n",
            "888                   0                 3              0      29.699118   \n",
            "889                   1                 1              1           26.0   \n",
            "890                   0                 3              1           32.0   \n",
            "\n",
            "    remainder__sibsp remainder__parch remainder__fare remainder__embarked  \\\n",
            "0                  1                0            7.25                   S   \n",
            "1                  1                0         71.2833                   C   \n",
            "2                  0                0           7.925                   S   \n",
            "3                  1                0            53.1                   S   \n",
            "4                  0                0            8.05                   S   \n",
            "..               ...              ...             ...                 ...   \n",
            "886                0                0            13.0                   S   \n",
            "887                0                0            30.0                   S   \n",
            "888                1                2           23.45                   S   \n",
            "889                0                0            30.0                   C   \n",
            "890                0                0            7.75                   Q   \n",
            "\n",
            "    remainder__who remainder__adult_male remainder__deck  \\\n",
            "0              man                  True               C   \n",
            "1            woman                 False               C   \n",
            "2            woman                 False               C   \n",
            "3            woman                 False               C   \n",
            "4              man                  True               C   \n",
            "..             ...                   ...             ...   \n",
            "886            man                  True               C   \n",
            "887          woman                 False               B   \n",
            "888          woman                 False               C   \n",
            "889            man                  True               C   \n",
            "890            man                  True               C   \n",
            "\n",
            "    remainder__embark_town remainder__alive remainder__alone  \n",
            "0              Southampton               no            False  \n",
            "1                Cherbourg              yes            False  \n",
            "2              Southampton              yes             True  \n",
            "3              Southampton              yes            False  \n",
            "4              Southampton               no             True  \n",
            "..                     ...              ...              ...  \n",
            "886            Southampton               no             True  \n",
            "887            Southampton              yes             True  \n",
            "888            Southampton               no            False  \n",
            "889              Cherbourg              yes             True  \n",
            "890             Queenstown               no             True  \n",
            "\n",
            "[891 rows x 17 columns]\n"
          ]
        }
      ]
    },
    {
      "cell_type": "markdown",
      "source": [
        "feature scaling"
      ],
      "metadata": {
        "id": "YEBCGQlfafx6"
      }
    },
    {
      "cell_type": "code",
      "source": [
        "import numpy as np\n",
        "import pandas as pd\n",
        "from sklearn.preprocessing import StandardScaler, MinMaxScaler, RobustScaler, MaxAbsScaler\n",
        "# Initialize scalers\n",
        "standard_scaler = StandardScaler()\n",
        "minmax_scaler = MinMaxScaler()\n",
        "robust_scaler = RobustScaler()\n",
        "maxabs_scaler = MaxAbsScaler()\n",
        "\n",
        "# Select only numeric columns\n",
        "df_numeric = df.select_dtypes(include=['number'])\n",
        "df=pd.DataFrame(df_numeric)\n",
        "\n",
        "# Apply scalers\n",
        "df_standard =pd.DataFrame(standard_scaler.fit_transform(df), columns=df.columns)\n",
        "df_minmax =pd.DataFrame(minmax_scaler.fit_transform(df), columns=df.columns)\n",
        "df_robust =pd.DataFrame(robust_scaler.fit_transform(df), columns=df.columns)\n",
        "df_maxabs =pd.DataFrame(maxabs_scaler.fit_transform(df), columns=df.columns)\n",
        "# Log Transformation (Handling zero by adding 1)\n",
        "df_log = np.log1p(df)\n",
        "# Display results\n",
        "print(\"\\nStandard Scaled Data:\\n\", df_standard)\n",
        "print(\"\\nMinMax Scaled Data:\\n\", df_minmax)\n",
        "print(\"\\nRobust Scaled Data:\\n\", df_robust)\n",
        "print(\"\\nMaxAbs Scaled Data:\\n\", df_maxabs)\n",
        "print(\"\\nLog Transformed Data:\\n\", df_log)"
      ],
      "metadata": {
        "colab": {
          "base_uri": "https://localhost:8080/"
        },
        "id": "XgEnVX0eVonN",
        "outputId": "44dd9e42-10a5-4482-a7c0-68db8cd47e06"
      },
      "execution_count": 18,
      "outputs": [
        {
          "output_type": "stream",
          "name": "stdout",
          "text": [
            "\n",
            "Standard Scaled Data:\n",
            "      survived    pclass       sex       age     sibsp     parch      fare\n",
            "0   -0.789272  0.827377  0.737695 -0.592481  0.432793 -0.473674 -0.502445\n",
            "1    1.266990 -1.566107 -1.355574  0.638789  0.432793 -0.473674  0.786845\n",
            "2    1.266990  0.827377 -1.355574 -0.284663 -0.474545 -0.473674 -0.488854\n",
            "3    1.266990 -1.566107 -1.355574  0.407926  0.432793 -0.473674  0.420730\n",
            "4   -0.789272  0.827377  0.737695  0.407926 -0.474545 -0.473674 -0.486337\n",
            "..        ...       ...       ...       ...       ...       ...       ...\n",
            "886 -0.789272 -0.369365  0.737695 -0.207709 -0.474545 -0.473674 -0.386671\n",
            "887  1.266990 -1.566107 -1.355574 -0.823344 -0.474545 -0.473674 -0.044381\n",
            "888 -0.789272  0.827377 -1.355574  0.000000  0.432793  2.008933 -0.176263\n",
            "889  1.266990 -1.566107  0.737695 -0.284663 -0.474545 -0.473674 -0.044381\n",
            "890 -0.789272  0.827377  0.737695  0.177063 -0.474545 -0.473674 -0.492378\n",
            "\n",
            "[891 rows x 7 columns]\n",
            "\n",
            "MinMax Scaled Data:\n",
            "      survived  pclass  sex       age  sibsp     parch      fare\n",
            "0         0.0     1.0  1.0  0.271174  0.125  0.000000  0.014151\n",
            "1         1.0     0.0  0.0  0.472229  0.125  0.000000  0.139136\n",
            "2         1.0     1.0  0.0  0.321438  0.000  0.000000  0.015469\n",
            "3         1.0     0.0  0.0  0.434531  0.125  0.000000  0.103644\n",
            "4         0.0     1.0  1.0  0.434531  0.000  0.000000  0.015713\n",
            "..        ...     ...  ...       ...    ...       ...       ...\n",
            "886       0.0     0.5  1.0  0.334004  0.000  0.000000  0.025374\n",
            "887       1.0     0.0  0.0  0.233476  0.000  0.000000  0.058556\n",
            "888       0.0     1.0  0.0  0.367921  0.125  0.333333  0.045771\n",
            "889       1.0     0.0  1.0  0.321438  0.000  0.000000  0.058556\n",
            "890       0.0     1.0  1.0  0.396833  0.000  0.000000  0.015127\n",
            "\n",
            "[891 rows x 7 columns]\n",
            "\n",
            "Robust Scaled Data:\n",
            "      survived  pclass  sex       age  sibsp  parch      fare\n",
            "0         0.0     0.0  0.0 -0.592240    1.0    0.0 -0.312011\n",
            "1         1.0    -2.0 -1.0  0.638529    1.0    0.0  2.461242\n",
            "2         1.0     0.0 -1.0 -0.284548    0.0    0.0 -0.282777\n",
            "3         1.0    -2.0 -1.0  0.407760    1.0    0.0  1.673732\n",
            "4         0.0     0.0  0.0  0.407760    0.0    0.0 -0.277363\n",
            "..        ...     ...  ...       ...    ...    ...       ...\n",
            "886       0.0    -1.0  0.0 -0.207624    0.0    0.0 -0.062981\n",
            "887       1.0    -2.0 -1.0 -0.823009    0.0    0.0  0.673281\n",
            "888       0.0     0.0 -1.0  0.000000    1.0    2.0  0.389604\n",
            "889       1.0    -2.0  0.0 -0.284548    0.0    0.0  0.673281\n",
            "890       0.0     0.0  0.0  0.176991    0.0    0.0 -0.290356\n",
            "\n",
            "[891 rows x 7 columns]\n",
            "\n",
            "MaxAbs Scaled Data:\n",
            "      survived    pclass  sex       age  sibsp     parch      fare\n",
            "0         0.0  1.000000  1.0  0.275000  0.125  0.000000  0.014151\n",
            "1         1.0  0.333333  0.0  0.475000  0.125  0.000000  0.139136\n",
            "2         1.0  1.000000  0.0  0.325000  0.000  0.000000  0.015469\n",
            "3         1.0  0.333333  0.0  0.437500  0.125  0.000000  0.103644\n",
            "4         0.0  1.000000  1.0  0.437500  0.000  0.000000  0.015713\n",
            "..        ...       ...  ...       ...    ...       ...       ...\n",
            "886       0.0  0.666667  1.0  0.337500  0.000  0.000000  0.025374\n",
            "887       1.0  0.333333  0.0  0.237500  0.000  0.000000  0.058556\n",
            "888       0.0  1.000000  0.0  0.371239  0.125  0.333333  0.045771\n",
            "889       1.0  0.333333  1.0  0.325000  0.000  0.000000  0.058556\n",
            "890       0.0  1.000000  1.0  0.400000  0.000  0.000000  0.015127\n",
            "\n",
            "[891 rows x 7 columns]\n",
            "\n",
            "Log Transformed Data:\n",
            "      survived    pclass       sex       age     sibsp     parch      fare\n",
            "0    0.000000  1.386294  0.693147  3.135494  0.693147  0.000000  2.110213\n",
            "1    0.693147  0.693147  0.000000  3.663562  0.693147  0.000000  4.280593\n",
            "2    0.693147  1.386294  0.000000  3.295837  0.000000  0.000000  2.188856\n",
            "3    0.693147  0.693147  0.000000  3.583519  0.693147  0.000000  3.990834\n",
            "4    0.000000  1.386294  0.693147  3.583519  0.000000  0.000000  2.202765\n",
            "..        ...       ...       ...       ...       ...       ...       ...\n",
            "886  0.000000  1.098612  0.693147  3.332205  0.000000  0.000000  2.639057\n",
            "887  0.693147  0.693147  0.000000  2.995732  0.000000  0.000000  3.433987\n",
            "888  0.000000  1.386294  0.000000  3.424234  0.693147  1.098612  3.196630\n",
            "889  0.693147  0.693147  0.693147  3.295837  0.000000  0.000000  3.433987\n",
            "890  0.000000  1.386294  0.693147  3.496508  0.000000  0.000000  2.169054\n",
            "\n",
            "[891 rows x 7 columns]\n"
          ]
        }
      ]
    },
    {
      "cell_type": "markdown",
      "source": [
        "Handeling outliers"
      ],
      "metadata": {
        "id": "Y0gSmKv4ctPY"
      }
    },
    {
      "cell_type": "code",
      "source": [
        "import numpy as np\n",
        "import pandas as pd\n",
        "import matplotlib.pyplot as plt\n",
        "\n",
        "df = pd.DataFrame(titanic)\n",
        "\n",
        "# Calculate Q1, Q3, and IQR\n",
        "Q1 = df['fare'].quantile(0.25)\n",
        "Q3 = df['fare'].quantile(0.75)\n",
        "IQR = Q3 - Q1\n",
        "\n",
        "# Define lower and upper bounds\n",
        "lower_bound = Q1 - 1.5 * IQR\n",
        "upper_bound = Q3 + 1.5 * IQR\n",
        "\n",
        "# Remove outliers\n",
        "df_filtered = df[(df['fare'] >= lower_bound) & (df['fare'] <= upper_bound)]\n",
        "\n",
        "# Plot before and after removing outliers\n",
        "fig, (ax1, ax2) = plt.subplots(1, 2, figsize=(12, 6))\n",
        "ax1.boxplot(df['fare'])\n",
        "ax1.set_title(\"Before Removing Outliers\")\n",
        "ax2.boxplot(df_filtered['fare'])\n",
        "ax2.set_title(\"After Removing Outliers\")\n",
        "plt.show()\n",
        "print(\"Data after removing outliers:\")\n",
        "print(df_filtered.head())"
      ],
      "metadata": {
        "colab": {
          "base_uri": "https://localhost:8080/",
          "height": 788
        },
        "id": "vG3Vd7Fja4Am",
        "outputId": "b296a010-8968-44e5-c5a4-838bd71ca5fb"
      },
      "execution_count": 28,
      "outputs": [
        {
          "output_type": "display_data",
          "data": {
            "text/plain": [
              "<Figure size 1200x600 with 2 Axes>"
            ],
            "image/png": "[encoded data removed]"
          },
          "metadata": {}
        },
        {
          "output_type": "stream",
          "name": "stdout",
          "text": [
            "Data after removing outliers:\n",
            "   survived  pclass     sex        age  sibsp  parch     fare embarked  class  \\\n",
            "0         0       3    male  22.000000      1      0   7.2500        S  Third   \n",
            "2         1       3  female  26.000000      0      0   7.9250        S  Third   \n",
            "3         1       1  female  35.000000      1      0  53.1000        S  First   \n",
            "4         0       3    male  35.000000      0      0   8.0500        S  Third   \n",
            "5         0       3    male  29.699118      0      0   8.4583        Q  Third   \n",
            "\n",
            "     who  adult_male deck  embark_town alive  alone  \n",
            "0    man        True    C  Southampton    no  False  \n",
            "2  woman       False    C  Southampton   yes   True  \n",
            "3  woman       False    C  Southampton   yes  False  \n",
            "4    man        True    C  Southampton    no   True  \n",
            "5    man        True    C   Queenstown    no   True  \n"
          ]
        }
      ]
    },
    {
      "cell_type": "markdown",
      "source": [
        "feature selection"
      ],
      "metadata": {
        "id": "re6pqNaaf3cQ"
      }
    },
    {
      "cell_type": "code",
      "source": [
        "import seaborn as sns\n",
        "import matplotlib.pyplot as plt\n",
        "\n",
        "housing_new=pd.DataFrame(df_numeric)\n",
        "\n",
        "# Calculate correlation matrix\n",
        "corr_matrix = housing_new.corr()\n",
        "\n",
        "# Plot heatmap of correlation matrix\n",
        "plt.figure(figsize=(10, 8))\n",
        "sns.heatmap(corr_matrix, annot=True, fmt='.2f', cmap='coolwarm', linewidths=0.5)\n",
        "plt.show()\n",
        "\n",
        "# Drop highly correlated features (e.g., correlation > 0.9)\n",
        "corr_threshold = 0.9\n",
        "to_drop = [column for column in corr_matrix.columns if any(abs(corr_matrix[column]) > corr_threshold)]\n",
        "print(to_drop)"
      ],
      "metadata": {
        "colab": {
          "base_uri": "https://localhost:8080/",
          "height": 699
        },
        "id": "tuD6eQkLc_SP",
        "outputId": "974e9aa0-8a9c-4e1e-ce61-a6db4aed4220"
      },
      "execution_count": 31,
      "outputs": [
        {
          "output_type": "display_data",
          "data": {
            "text/plain": [
              "<Figure size 1000x800 with 2 Axes>"
            ],
            "image/png": "[encoded data removed]"
          },
          "metadata": {}
        },
        {
          "output_type": "stream",
          "name": "stdout",
          "text": [
            "['survived', 'pclass', 'sex', 'age', 'sibsp', 'parch', 'fare']\n"
          ]
        }
      ]
    },
    {
      "cell_type": "markdown",
      "source": [
        "PCA"
      ],
      "metadata": {
        "id": "DMtJMZnkhLeY"
      }
    },
    {
      "cell_type": "code",
      "source": [
        "# Selecting numerical features\n",
        "numerical_features = df.select_dtypes(include=['float64', 'int64']).drop(columns=['fare'], errors='ignore')  # Drop target if applicable\n",
        "# Standardizing the features\n",
        "scaler = StandardScaler()\n",
        "scaled_data = scaler.fit_transform(numerical_features)\n",
        "from sklearn.impute import SimpleImputer\n",
        "imputer = SimpleImputer(strategy=\"median\")  #\n",
        "scaled_data = imputer.fit_transform(scaled_data)\n",
        "from sklearn.decomposition import PCA\n",
        "# Choose the number of components\n",
        "pca = PCA(n_components=5)  # Adjust based on variance explained\n",
        "pca_features = pca.fit_transform(scaled_data)\n",
        "# Convert to DataFrame\n",
        "pca_df = pd.DataFrame(pca_features, columns=[f'PC{i+1}' for i in range(5)])\n",
        "explained_variance = pca.explained_variance_ratio_\n",
        "# Plot cumulative variance\n",
        "plt.figure(figsize=(8,5))\n",
        "plt.plot(range(1, len(explained_variance)+1), explained_variance.cumsum(), marker='o', linestyle='--')\n",
        "plt.xlabel(\"Number of Components\")\n",
        "plt.ylabel(\"Cumulative Explained Variance\")\n",
        "plt.title(\"Explained Variance by PCA Components\")\n",
        "plt.show()"
      ],
      "metadata": {
        "colab": {
          "base_uri": "https://localhost:8080/",
          "height": 487
        },
        "id": "ZskD7oVAf93_",
        "outputId": "e7fdf9dd-2d60-451e-d309-54732c490e12"
      },
      "execution_count": 32,
      "outputs": [
        {
          "output_type": "display_data",
          "data": {
            "text/plain": [
              "<Figure size 800x500 with 1 Axes>"
            ],
            "image/png": "[encoded data removed]"
          },
          "metadata": {}
        }
      ]
    },
    {
      "cell_type": "code",
      "source": [],
      "metadata": {
        "id": "b-ywctQyhXAx"
      },
      "execution_count": null,
      "outputs": []
    }
  ]
}