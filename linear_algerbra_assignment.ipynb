{
  "nbformat": 4,
  "nbformat_minor": 0,
  "metadata": {
    "colab": {
      "provenance": [],
      "toc_visible": true,
      "authorship_tag": "ABX9TyNkfSMcw0Snh7e+X5lPXrUO",
      "include_colab_link": true
    },
    "kernelspec": {
      "name": "python3",
      "display_name": "Python 3"
    },
    "language_info": {
      "name": "python"
    }
  },
  "cells": [
    {
      "cell_type": "markdown",
      "metadata": {
        "id": "view-in-github",
        "colab_type": "text"
      },
      "source": [
        "<a href=\"https://colab.research.google.com/github/roshashrestha/githubtest/blob/main/linear_algerbra_assignment.ipynb\" target=\"_parent\"><img src=\"https://colab.research.google.com/assets/colab-badge.svg\" alt=\"Open In Colab\"/></a>"
      ]
    },
    {
      "cell_type": "markdown",
      "source": [
        "1.Matrix Operation\n",
        "\n",
        "Perform the following operations on the given matrices:\n",
        "\n",
        "A=[[2    -1], [​0    3​]]\n",
        "B=[[1   ​ 2], [-3      4​]]\n",
        "\n",
        "a. A+B\n",
        "b. AB\n",
        "c. 3A−2B"
      ],
      "metadata": {
        "id": "DPP3qkxwieNm"
      }
    },
    {
      "cell_type": "code",
      "execution_count": 5,
      "metadata": {
        "colab": {
          "base_uri": "https://localhost:8080/"
        },
        "id": "XFQp702viAXL",
        "outputId": "d3bb4661-5ee3-46fb-9730-996971d7264a"
      },
      "outputs": [
        {
          "output_type": "stream",
          "name": "stdout",
          "text": [
            "A+B= [[ 3  1]\n",
            " [-3  7]]\n",
            "AB= [[ 2 -2]\n",
            " [ 0 12]]\n",
            "3A-2B= [[ 4 -7]\n",
            " [ 6  1]]\n"
          ]
        }
      ],
      "source": [
        "import numpy as np\n",
        "A=np.array([[2,-1], [0,3]])\n",
        "B=np.array([[1,2], [-3,4]])\n",
        "X=A+B\n",
        "Y=A*B\n",
        "Z=3*A-2*B\n",
        "print(\"A+B=\",X)\n",
        "print(\"AB=\",Y)\n",
        "print(\"3A-2B=\",Z)"
      ]
    },
    {
      "cell_type": "markdown",
      "source": [
        "2. Determinants and Inverses  \n",
        "Find the determinant of A.\n",
        "Determine whether A is invertible. If yes, calculate A−1."
      ],
      "metadata": {
        "id": "Tku7LamVkExq"
      }
    },
    {
      "cell_type": "code",
      "source": [
        "import numpy.linalg as LA\n",
        "import numpy as np\n",
        "A=np.array([[2,-1], [0,3]])\n",
        "d=LA.det(A)\n",
        "print(\"determinant of matrix A: \",d)\n",
        "if(d!=0):\n",
        "    print(\"matrix A is invertible\")\n",
        "else:\n",
        "    print(\"matrix A is not invertible\")\n",
        "inv=LA.inv(A)\n",
        "print(\"inverse of matrix A: \",inv)"
      ],
      "metadata": {
        "colab": {
          "base_uri": "https://localhost:8080/"
        },
        "id": "9WYkCn6Zi5xy",
        "outputId": "474ce41b-1fab-4f4d-bfc7-2ce7df26f860"
      },
      "execution_count": 8,
      "outputs": [
        {
          "output_type": "stream",
          "name": "stdout",
          "text": [
            "determinant of matrix A:  6.0\n",
            "matrix A is invertible\n",
            "inverse of matrix A:  [[0.5        0.16666667]\n",
            " [0.         0.33333333]]\n"
          ]
        }
      ]
    },
    {
      "cell_type": "markdown",
      "source": [
        "3.Compute the eigenvalues and eigenvectors of the matrix:\n",
        "\n",
        "C=[[4    1], [​−2       1]​]"
      ],
      "metadata": {
        "id": "b00QP2Bpl2-N"
      }
    },
    {
      "cell_type": "code",
      "source": [
        "import numpy as np\n",
        "\n",
        "# Define the matrix\n",
        "A = np.array([[4, 1],[-2, 1]])\n",
        "\n",
        "# Compute eigenvalues and eigenvectors\n",
        "eigenvalues, eigenvectors = np.linalg.eig(A)\n",
        "\n",
        "# Print the results\n",
        "print(\"Matrix A:\")\n",
        "print(A)\n",
        "print(\"\\nEigenvalue (first):\")\n",
        "print(eigenvalues[0])\n",
        "print(\"\\nCorresponding Eigenvector:\")\n",
        "print(eigenvectors[:, 0])"
      ],
      "metadata": {
        "colab": {
          "base_uri": "https://localhost:8080/"
        },
        "id": "eLf9jIOMkww6",
        "outputId": "57b5fc42-9ee2-419b-8452-02384821baca"
      },
      "execution_count": 9,
      "outputs": [
        {
          "output_type": "stream",
          "name": "stdout",
          "text": [
            "Matrix A:\n",
            "[[ 4  1]\n",
            " [-2  1]]\n",
            "\n",
            "Eigenvalue (first):\n",
            "3.0\n",
            "\n",
            "Corresponding Eigenvector:\n",
            "[ 0.70710678 -0.70710678]\n"
          ]
        }
      ]
    },
    {
      "cell_type": "markdown",
      "source": [
        "4.You are given a dataset of cars with the following features:Number of cylinders (x1​)Engine size in liters (x2​)Horsepower (x3)\n",
        "\n",
        "car 1:\n",
        "x1: 4\n",
        "x2:  1.5\n",
        "x3: 100\n",
        "and price: 20\n",
        "\n",
        "car 2:\n",
        "x1: 6\n",
        "x2:  2.0\n",
        "x3: 150\n",
        "and price: 30\n",
        "\n",
        "Then, find the price of a car 3 with features\n",
        "\n",
        "x1: 8\n",
        "x2:  3.0\n",
        "x3: 200\n",
        "price:?"
      ],
      "metadata": {
        "id": "L7gIfBOTm8I7"
      }
    },
    {
      "cell_type": "code",
      "source": [
        "import numpy as np\n",
        "\n",
        "# Define the feature matrix X (including a bias term), and the price vector y\n",
        "X = np.array([\n",
        "    [1, 4, 1.5, 100],  # Bias term + features of car 1\n",
        "    [1, 6, 2.0, 150]   # Bias term + features of car 2\n",
        "])\n",
        "\n",
        "y = np.array([20, 30])  # Prices of car 1 and car 2\n",
        "\n",
        "# Compute β using the normal equation: β = (X.T * X)^(-1) * X.T * y\n",
        "X_transpose = X.T\n",
        "beta = np.linalg.inv(X_transpose @ X) @ X_transpose @ y\n",
        "\n",
        "# Define features of car 3\n",
        "car3_features = np.array([1, 8, 3.0, 200])  # Include the bias term\n",
        "\n",
        "# Predict the price of car 3\n",
        "car3_price = car3_features @ beta\n",
        "print(f\"Predicted price of car 3 :{car3_price:.6f}\")\n",
        "\n",
        "#The computation failed because the matrix X^t*X is singular (not invertible)."
      ],
      "metadata": {
        "colab": {
          "base_uri": "https://localhost:8080/",
          "height": 356
        },
        "id": "fJFPBiM5m5Uc",
        "outputId": "b2e0dc1b-64ec-4adb-b1a6-a5377fbfbc33"
      },
      "execution_count": 3,
      "outputs": [
        {
          "output_type": "error",
          "ename": "LinAlgError",
          "evalue": "Singular matrix",
          "traceback": [
            "\u001b[0;31m---------------------------------------------------------------------------\u001b[0m",
            "\u001b[0;31mLinAlgError\u001b[0m                               Traceback (most recent call last)",
            "\u001b[0;32m<ipython-input-3-cc6d930585e2>\u001b[0m in \u001b[0;36m<cell line: 13>\u001b[0;34m()\u001b[0m\n\u001b[1;32m     11\u001b[0m \u001b[0;31m# Compute β using the normal equation: β = (X.T * X)^(-1) * X.T * y\u001b[0m\u001b[0;34m\u001b[0m\u001b[0;34m\u001b[0m\u001b[0m\n\u001b[1;32m     12\u001b[0m \u001b[0mX_transpose\u001b[0m \u001b[0;34m=\u001b[0m \u001b[0mX\u001b[0m\u001b[0;34m.\u001b[0m\u001b[0mT\u001b[0m\u001b[0;34m\u001b[0m\u001b[0;34m\u001b[0m\u001b[0m\n\u001b[0;32m---> 13\u001b[0;31m \u001b[0mbeta\u001b[0m \u001b[0;34m=\u001b[0m \u001b[0mnp\u001b[0m\u001b[0;34m.\u001b[0m\u001b[0mlinalg\u001b[0m\u001b[0;34m.\u001b[0m\u001b[0minv\u001b[0m\u001b[0;34m(\u001b[0m\u001b[0mX_transpose\u001b[0m \u001b[0;34m@\u001b[0m \u001b[0mX\u001b[0m\u001b[0;34m)\u001b[0m \u001b[0;34m@\u001b[0m \u001b[0mX_transpose\u001b[0m \u001b[0;34m@\u001b[0m \u001b[0my\u001b[0m\u001b[0;34m\u001b[0m\u001b[0;34m\u001b[0m\u001b[0m\n\u001b[0m\u001b[1;32m     14\u001b[0m \u001b[0;34m\u001b[0m\u001b[0m\n\u001b[1;32m     15\u001b[0m \u001b[0;31m# Define features of car 3\u001b[0m\u001b[0;34m\u001b[0m\u001b[0;34m\u001b[0m\u001b[0m\n",
            "\u001b[0;32m/usr/local/lib/python3.10/dist-packages/numpy/linalg/linalg.py\u001b[0m in \u001b[0;36minv\u001b[0;34m(a)\u001b[0m\n\u001b[1;32m    559\u001b[0m     \u001b[0msignature\u001b[0m \u001b[0;34m=\u001b[0m \u001b[0;34m'D->D'\u001b[0m \u001b[0;32mif\u001b[0m \u001b[0misComplexType\u001b[0m\u001b[0;34m(\u001b[0m\u001b[0mt\u001b[0m\u001b[0;34m)\u001b[0m \u001b[0;32melse\u001b[0m \u001b[0;34m'd->d'\u001b[0m\u001b[0;34m\u001b[0m\u001b[0;34m\u001b[0m\u001b[0m\n\u001b[1;32m    560\u001b[0m     \u001b[0mextobj\u001b[0m \u001b[0;34m=\u001b[0m \u001b[0mget_linalg_error_extobj\u001b[0m\u001b[0;34m(\u001b[0m\u001b[0m_raise_linalgerror_singular\u001b[0m\u001b[0;34m)\u001b[0m\u001b[0;34m\u001b[0m\u001b[0;34m\u001b[0m\u001b[0m\n\u001b[0;32m--> 561\u001b[0;31m     \u001b[0mainv\u001b[0m \u001b[0;34m=\u001b[0m \u001b[0m_umath_linalg\u001b[0m\u001b[0;34m.\u001b[0m\u001b[0minv\u001b[0m\u001b[0;34m(\u001b[0m\u001b[0ma\u001b[0m\u001b[0;34m,\u001b[0m \u001b[0msignature\u001b[0m\u001b[0;34m=\u001b[0m\u001b[0msignature\u001b[0m\u001b[0;34m,\u001b[0m \u001b[0mextobj\u001b[0m\u001b[0;34m=\u001b[0m\u001b[0mextobj\u001b[0m\u001b[0;34m)\u001b[0m\u001b[0;34m\u001b[0m\u001b[0;34m\u001b[0m\u001b[0m\n\u001b[0m\u001b[1;32m    562\u001b[0m     \u001b[0;32mreturn\u001b[0m \u001b[0mwrap\u001b[0m\u001b[0;34m(\u001b[0m\u001b[0mainv\u001b[0m\u001b[0;34m.\u001b[0m\u001b[0mastype\u001b[0m\u001b[0;34m(\u001b[0m\u001b[0mresult_t\u001b[0m\u001b[0;34m,\u001b[0m \u001b[0mcopy\u001b[0m\u001b[0;34m=\u001b[0m\u001b[0;32mFalse\u001b[0m\u001b[0;34m)\u001b[0m\u001b[0;34m)\u001b[0m\u001b[0;34m\u001b[0m\u001b[0;34m\u001b[0m\u001b[0m\n\u001b[1;32m    563\u001b[0m \u001b[0;34m\u001b[0m\u001b[0m\n",
            "\u001b[0;32m/usr/local/lib/python3.10/dist-packages/numpy/linalg/linalg.py\u001b[0m in \u001b[0;36m_raise_linalgerror_singular\u001b[0;34m(err, flag)\u001b[0m\n\u001b[1;32m    110\u001b[0m \u001b[0;34m\u001b[0m\u001b[0m\n\u001b[1;32m    111\u001b[0m \u001b[0;32mdef\u001b[0m \u001b[0m_raise_linalgerror_singular\u001b[0m\u001b[0;34m(\u001b[0m\u001b[0merr\u001b[0m\u001b[0;34m,\u001b[0m \u001b[0mflag\u001b[0m\u001b[0;34m)\u001b[0m\u001b[0;34m:\u001b[0m\u001b[0;34m\u001b[0m\u001b[0;34m\u001b[0m\u001b[0m\n\u001b[0;32m--> 112\u001b[0;31m     \u001b[0;32mraise\u001b[0m \u001b[0mLinAlgError\u001b[0m\u001b[0;34m(\u001b[0m\u001b[0;34m\"Singular matrix\"\u001b[0m\u001b[0;34m)\u001b[0m\u001b[0;34m\u001b[0m\u001b[0;34m\u001b[0m\u001b[0m\n\u001b[0m\u001b[1;32m    113\u001b[0m \u001b[0;34m\u001b[0m\u001b[0m\n\u001b[1;32m    114\u001b[0m \u001b[0;32mdef\u001b[0m \u001b[0m_raise_linalgerror_nonposdef\u001b[0m\u001b[0;34m(\u001b[0m\u001b[0merr\u001b[0m\u001b[0;34m,\u001b[0m \u001b[0mflag\u001b[0m\u001b[0;34m)\u001b[0m\u001b[0;34m:\u001b[0m\u001b[0;34m\u001b[0m\u001b[0;34m\u001b[0m\u001b[0m\n",
            "\u001b[0;31mLinAlgError\u001b[0m: Singular matrix"
          ]
        }
      ]
    },
    {
      "cell_type": "code",
      "source": [
        "from google.colab import drive\n",
        "drive.mount('/content/drive')"
      ],
      "metadata": {
        "id": "K82VC3HvgqzC"
      },
      "execution_count": null,
      "outputs": []
    },
    {
      "cell_type": "code",
      "source": [
        "# Define features of car 3\n",
        "car3_features = np.array([1, 8, 3.0, 200])  # Include the bias term\n",
        "# Compute β using the pseudo-inverse: β = np.linalg.pinv(X) @ y\n",
        "beta = np.linalg.pinv(X) @ y #formula for pseudo inverse\n",
        "\n",
        "# Predict the price of car 3\n",
        "car3_price = car3_features @ beta\n",
        "print(f\"Predicted price of car 3 :{car3_price:.6f}\")"
      ],
      "metadata": {
        "colab": {
          "base_uri": "https://localhost:8080/"
        },
        "id": "9axskG1OfpET",
        "outputId": "a054a378-3a49-4acf-c8f4-aca26c97a9ee"
      },
      "execution_count": 4,
      "outputs": [
        {
          "output_type": "stream",
          "name": "stdout",
          "text": [
            "Predicted price of car 3 :40.000799\n"
          ]
        }
      ]
    },
    {
      "cell_type": "code",
      "source": [],
      "metadata": {
        "id": "PMjAmVpmft3S"
      },
      "execution_count": null,
      "outputs": []
    }
  ]
}